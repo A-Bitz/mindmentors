{
 "cells": [
  {
   "cell_type": "code",
   "execution_count": null,
   "id": "05cc07f6",
   "metadata": {},
   "outputs": [],
   "source": [
    "from flask import Flask, render_template, request\n",
    "import cv2\n",
    "import numpy as np\n",
    "\n",
    "app = Flask(__name__)\n",
    "\n",
    "app.config['SEND_FILE_MAX_AGE_DEFAULT'] = 1\n",
    "\n",
    "@app.route('/')\n",
    "def index():\n",
    "    return render_template('upload.html')\n",
    "\n",
    "@app.route('/predict', methods=['GET', 'POST'])\n",
    "def predict():\n",
    "    image = request.files['select_file']\n",
    "    image.save('static/file.jpg')\n",
    "    image = cv2.imread('static/file.jpg')\n",
    "\n",
    "    gray = cv2.cvtColor(image, cv2.COLOR_BGR2GRAY)\n",
    "    cascade = cv2.CascadeClassifier('haarcascade_frontalface_alt2.xml')\n",
    "\n",
    "    faces = cascade.detectMultiScale(gray, 1.1, 3)\n",
    "\n",
    "    for x, y, w, h in faces:\n",
    "        cv2.rectangle(image, (x, y), (x + w, y + h), (0, 255, 0), 2)\n",
    "        cropped = image[y:y + h, x:x + w]\n",
    "\n",
    "    cv2.imwrite('static/after.jpg', image)\n",
    "    try:\n",
    "        cv2.imwrite('static/cropped.jpg', cropped)\n",
    "    except:\n",
    "        pass\n",
    "\n",
    "    return render_template('predict.html', data=\"Emotion Prediction Placeholder\")\n",
    "\n",
    "if __name__ == \"__main__\":\n",
    "    app.run(debug=True)\n"
   ]
  }
 ],
 "metadata": {
  "kernelspec": {
   "display_name": "Python 3 (ipykernel)",
   "language": "python",
   "name": "python3"
  },
  "language_info": {
   "codemirror_mode": {
    "name": "ipython",
    "version": 3
   },
   "file_extension": ".py",
   "mimetype": "text/x-python",
   "name": "python",
   "nbconvert_exporter": "python",
   "pygments_lexer": "ipython3",
   "version": "3.9.12"
  }
 },
 "nbformat": 4,
 "nbformat_minor": 5
}
